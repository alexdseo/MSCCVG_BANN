{
 "cells": [
  {
   "cell_type": "code",
   "execution_count": 1,
   "metadata": {},
   "outputs": [
    {
     "name": "stderr",
     "output_type": "stream",
     "text": [
      "C:\\Users\\LG\\Anaconda3\\lib\\site-packages\\h5py\\__init__.py:34: FutureWarning: Conversion of the second argument of issubdtype from `float` to `np.floating` is deprecated. In future, it will be treated as `np.float64 == np.dtype(float).type`.\n",
      "  from ._conv import register_converters as _register_converters\n"
     ]
    }
   ],
   "source": [
    "import tensorflow as tf\n",
    "from tensorflow.examples.tutorials.mnist import input_data\n",
    "import numpy as np\n",
    "import os\n",
    "from functools import partial\n",
    "from sklearn.model_selection import train_test_split\n",
    "import pandas as pd\n",
    "import matplotlib.pyplot as plt\n",
    "import itertools\n",
    "from scipy.stats import norm"
   ]
  },
  {
   "cell_type": "code",
   "execution_count": 2,
   "metadata": {
    "collapsed": true
   },
   "outputs": [],
   "source": [
    "def l21_norm(W):\n",
    "    # Computes the L21 norm of a symbolic matrix W\n",
    "    return tf.reduce_sum(tf.norm(W, axis=1))\n",
    "\n",
    "def group_regularization(v):\n",
    "    # Computes a group regularization loss from a list of weight matrices corresponding\n",
    "    # to the different layers\n",
    "    const_coeff = lambda W: tf.sqrt(tf.cast(W.get_shape().as_list()[1], tf.float32))\n",
    "    return tf.reduce_sum([tf.multiply(const_coeff(W), l21_norm(W)) for W in v if 'bias' not in W.name])\n",
    "\n",
    "def group_regularization_player(v):\n",
    "\tconst_coeff = lambda W: tf.sqrt(tf.cast(W.get_shape().as_list()[1], tf.float32))\n",
    "\treturn tf.reduce_sum(tf.multiply(const_coeff(v), l21_norm(v)))\n",
    "\n",
    "def custom_group_regularization_player(v, g_scalevec):\n",
    "\t#const_coeff = lambda W: tf.sqrt(tf.cast(W.get_shape().as_list()[1], tf.float32))\n",
    "\treturn tf.reduce_sum(tf.multiply(tf.norm(v, axis=1), g_scalevec))\n",
    "\n",
    "def friedman_suite(x):\n",
    "\treturn 10 * np.sin(np.pi * x[0] * x[1]) + 20 * (x[2] - 0.5)**2 + 10 * x[3] + 5 * x[4]\n",
    "\n",
    "def get_grd_importance(iXtest):\n",
    "\tnsamples = iXtest.shape[0]\n",
    "\tisum = 0.0\n",
    "\tfor i in range(nsamples):\n",
    "\t\tisum = isum + friedman_suite(iXtest[i, :])\n",
    "\tisum = isum * 1.0 / nsamples\n",
    "\treturn isum\n",
    "\n",
    "def f11_suite(x):\n",
    "    interaction1 = 10 * np.exp(x[:, 0]*x[:, 1])\n",
    "    interaction4 = 2 * np.arcsin(x[:, 8] * x[:, 9])\n",
    "    y=interaction1 + interaction4\n",
    "    return y\n",
    "\n",
    "def get_grd_importance_f(iXtest):\n",
    "\tisum = f11_suite(iXtest)\n",
    "\treturn np.mean(isum)\n",
    "\n",
    "def get_grd_importance_f4(iXtest):\n",
    "\tisum = f4_suite(iXtest)\n",
    "\treturn np.mean(isum)"
   ]
  },
  {
   "cell_type": "code",
   "execution_count": 3,
   "metadata": {
    "collapsed": true
   },
   "outputs": [],
   "source": [
    "n_variables = 11\n",
    "samples_per_var = 20000\n",
    "\n",
    "\n",
    "np.random.seed(31)\n",
    "tf.set_random_seed(0)"
   ]
  },
  {
   "cell_type": "code",
   "execution_count": 4,
   "metadata": {
    "collapsed": true
   },
   "outputs": [],
   "source": [
    "dataset_name = './wine_red'\n",
    "split =\t19\n",
    "train_dataset_name = dataset_name + '_training' + str(split)+'.csv'\n",
    "test_dataset_name = dataset_name + '_testing' + str(split)+'.csv'\n",
    "\n",
    "trainingData = pd.DataFrame(pd.read_csv(train_dataset_name))\n",
    "testingData = pd.DataFrame(pd.read_csv(test_dataset_name))\n",
    "\n",
    "X_train = trainingData.iloc[:, 1:-1].values\n",
    "y_train = trainingData.iloc[:, -1].values.flatten()\n",
    "X_test = testingData.iloc[:, 1:-1].values\n",
    "y_test = testingData.iloc[:, -1].values.flatten()"
   ]
  },
  {
   "cell_type": "code",
   "execution_count": 13,
   "metadata": {},
   "outputs": [
    {
     "data": {
      "text/plain": [
       "(1439, 11)"
      ]
     },
     "execution_count": 13,
     "metadata": {},
     "output_type": "execute_result"
    }
   ],
   "source": [
    "X_train.shape"
   ]
  },
  {
   "cell_type": "code",
   "execution_count": 14,
   "metadata": {
    "collapsed": true
   },
   "outputs": [],
   "source": [
    "os.environ[\"CUDA_VISIBLE_DEVICES\"] = \"1\"\n",
    "n_inputs = 11\n",
    "n_hidden1 = 4\n",
    "n_hidden2 = 3\n",
    "n_hidden3 = 2\n",
    "n_hidden4 = 5\n",
    "n_hidden5 = 2\n",
    "n_hidden6 = 5\n",
    "n_hidden7 = 3\n",
    "n_hidden8 = 5\n",
    "n_hidden9 = 7\n",
    "n_hidden10 = 5\n",
    "n_hidden11 = 7\n",
    "n_hidden22 = 8\n",
    "n_hidden33 = 8\n",
    "n_hidden44 = 6\n",
    "n_hidden55 = 9\n",
    "n_hidden66 = 7\n",
    "n_hidden77 = 5\n",
    "n_hidden88 = 10\n",
    "n_hidden99 = 12\n",
    "n_hidden1010 = 13\n",
    "n_outputs = 1\n",
    "g_scale = 1\n",
    "thresh = 0.5\n",
    "dropout_rate = 0.2\n",
    "n_hiddens = n_hidden1 + n_hidden2 + n_hidden3 + n_hidden4 + n_hidden5 + n_hidden6 + n_hidden7 + n_hidden8 + n_hidden9 + n_hidden10\n",
    "elems_scale = [0.1] * n_hiddens\n",
    "#elems_scale[0] = 0.0001, not very useful\n",
    "#elems_scale[1] = 0.0001, not very useful\n",
    "#g_scalevec = tf.constant([1.0, 1.0, 1.0, 1.0, 1.0, 1.0, 1.0, 1.0, 1.0, 1.0, 1.0, 1.0, 1.0, 1.0, 1.0, 1.0, 1.0, 1.0, 1.0, 1.0])\n",
    "g_scalevec = tf.constant(elems_scale)\n",
    "training = tf.placeholder_with_default(False, shape=(), name='training')\n",
    "X = tf.placeholder(tf.float32, (None, n_inputs), name='X')\n",
    "y = tf.placeholder(tf.float32, (None), name = 'y')"
   ]
  },
  {
   "cell_type": "code",
   "execution_count": 16,
   "metadata": {},
   "outputs": [
    {
     "data": {
      "text/plain": [
       "<tf.Tensor 'y:0' shape=<unknown> dtype=float32>"
      ]
     },
     "execution_count": 16,
     "metadata": {},
     "output_type": "execute_result"
    }
   ],
   "source": [
    "X"
   ]
  },
  {
   "cell_type": "code",
   "execution_count": 17,
   "metadata": {},
   "outputs": [
    {
     "name": "stdout",
     "output_type": "stream",
     "text": [
      "WARNING:tensorflow:From <ipython-input-17-e3ccda17843c>:2: dense (from tensorflow.python.layers.core) is deprecated and will be removed in a future version.\n",
      "Instructions for updating:\n",
      "Use keras.layers.dense instead.\n",
      "WARNING:tensorflow:From C:\\Users\\LG\\Anaconda3\\lib\\site-packages\\tensorflow\\python\\framework\\op_def_library.py:263: colocate_with (from tensorflow.python.framework.ops) is deprecated and will be removed in a future version.\n",
      "Instructions for updating:\n",
      "Colocations handled automatically by placer.\n",
      "WARNING:tensorflow:From <ipython-input-17-e3ccda17843c>:13: dropout (from tensorflow.python.layers.core) is deprecated and will be removed in a future version.\n",
      "Instructions for updating:\n",
      "Use keras.layers.dropout instead.\n",
      "WARNING:tensorflow:From C:\\Users\\LG\\Anaconda3\\lib\\site-packages\\tensorflow\\python\\keras\\layers\\core.py:143: calling dropout (from tensorflow.python.ops.nn_ops) with keep_prob is deprecated and will be removed in a future version.\n",
      "Instructions for updating:\n",
      "Please use `rate` instead of `keep_prob`. Rate should be set to `rate = 1 - keep_prob`.\n"
     ]
    }
   ],
   "source": [
    "with tf.name_scope('dnn'):\n",
    "\thidden1 = tf.layers.dense(X, n_hidden1, activation=tf.nn.relu, name='hidden1')\n",
    "\thidden2 = tf.layers.dense(X, n_hidden2, activation=tf.nn.relu, name='hidden2')\n",
    "\thidden3 = tf.layers.dense(X, n_hidden3, activation=tf.nn.relu, name='hidden3')\n",
    "\thidden4 = tf.layers.dense(X, n_hidden4, activation=tf.nn.relu, name='hidden4')\n",
    "\thidden5 = tf.layers.dense(X, n_hidden5, activation=tf.nn.relu, name='hidden5')\n",
    "\thidden6 = tf.layers.dense(X, n_hidden6, activation=tf.nn.relu, name='hidden6')\n",
    "\thidden7 = tf.layers.dense(X, n_hidden7, activation=tf.nn.relu, name='hidden7')\n",
    "\thidden8 = tf.layers.dense(X, n_hidden8, activation=tf.nn.relu, name='hidden8')\n",
    "\thidden9 = tf.layers.dense(X, n_hidden9, activation=tf.nn.relu, name='hidden9')\n",
    "\thidden10 = tf.layers.dense(X, n_hidden10, activation=tf.nn.relu, name='hidden10')\n",
    "\thidden1_1 = tf.layers.dense(hidden1, n_hidden11, activation=tf.nn.relu, name='hidden1_1')\n",
    "\thidden1_1drop = tf.layers.dropout(hidden1_1, dropout_rate, training=training)\n",
    "\thidden1_2 = tf.layers.dense(hidden2, n_hidden22, activation=tf.nn.relu, name='hidden1_2')\n",
    "\thidden1_2drop = tf.layers.dropout(hidden1_2, dropout_rate, training=training)\n",
    "\thidden1_3 = tf.layers.dense(hidden3, n_hidden33, activation=tf.nn.relu, name='hidden1_3')\n",
    "\thidden1_3drop = tf.layers.dropout(hidden1_3, dropout_rate, training=training)\n",
    "\thidden1_4 = tf.layers.dense(hidden4, n_hidden44, activation=tf.nn.relu, name='hidden1_4')\n",
    "\thidden1_4drop = tf.layers.dropout(hidden1_4, dropout_rate, training=training)\n",
    "\thidden1_5 = tf.layers.dense(hidden5, n_hidden55, activation=tf.nn.relu, name='hidden1_5')\n",
    "\thidden1_5drop = tf.layers.dropout(hidden1_5, dropout_rate, training=training)\n",
    "\thidden1_6 = tf.layers.dense(hidden6, n_hidden66, activation=tf.nn.relu, name='hidden1_6')\n",
    "\thidden1_6drop = tf.layers.dropout(hidden1_6, dropout_rate, training=training)\n",
    "\thidden1_7 = tf.layers.dense(hidden7, n_hidden77, activation=tf.nn.relu, name='hidden1_7')\n",
    "\thidden1_7drop = tf.layers.dropout(hidden1_7, dropout_rate, training=training)\n",
    "\thidden1_8 = tf.layers.dense(hidden8, n_hidden88, activation=tf.nn.relu, name='hidden1_8')\n",
    "\thidden1_8drop = tf.layers.dropout(hidden1_8, dropout_rate, training=training)\n",
    "\thidden1_9 = tf.layers.dense(hidden9, n_hidden99, activation=tf.nn.relu, name='hidden1_9')\n",
    "\thidden1_9drop = tf.layers.dropout(hidden1_9, dropout_rate, training=training)\n",
    "\thidden1_10 = tf.layers.dense(hidden10, n_hidden1010, activation=tf.nn.relu, name='hidden1_10')\n",
    "\thidden1_10drop = tf.layers.dropout(hidden1_10, dropout_rate, training=training)\n",
    "\thidden_cat = tf.concat([hidden1_1drop, hidden1_2drop], 1)\n",
    "\thidden_cat = tf.concat([hidden_cat, hidden1_3drop], 1)\n",
    "\thidden_cat = tf.concat([hidden_cat, hidden1_4drop], 1)\n",
    "\thidden_cat = tf.concat([hidden_cat, hidden1_5drop], 1)\n",
    "\thidden_cat = tf.concat([hidden_cat, hidden1_6drop], 1)\n",
    "\thidden_cat = tf.concat([hidden_cat, hidden1_7drop], 1)\n",
    "\thidden_cat = tf.concat([hidden_cat, hidden1_8drop], 1)\n",
    "\thidden_cat = tf.concat([hidden_cat, hidden1_9drop], 1)\n",
    "\thidden_cat = tf.concat([hidden_cat, hidden1_10drop], 1)\n",
    "\thidden_cat_drop = tf.layers.dropout(hidden_cat, dropout_rate, training=training)\n",
    "\tlogits = tf.layers.dense(hidden_cat_drop, n_outputs, name='outputs')\n",
    "\tsimu = tf.reduce_mean(logits)"
   ]
  },
  {
   "cell_type": "code",
   "execution_count": 22,
   "metadata": {},
   "outputs": [
    {
     "data": {
      "text/plain": [
       "<tf.Tensor 'dnn/outputs/BiasAdd:0' shape=(?, 1) dtype=float32>"
      ]
     },
     "execution_count": 22,
     "metadata": {},
     "output_type": "execute_result"
    }
   ],
   "source": [
    "logits"
   ]
  },
  {
   "cell_type": "code",
   "execution_count": 18,
   "metadata": {
    "collapsed": true
   },
   "outputs": [],
   "source": [
    "W_h1 = tf.get_default_graph().get_tensor_by_name(\"hidden1/kernel:0\")\n",
    "W_h2 = tf.get_default_graph().get_tensor_by_name(\"hidden2/kernel:0\")\n",
    "W_h3 = tf.get_default_graph().get_tensor_by_name(\"hidden3/kernel:0\")\n",
    "W_h4 = tf.get_default_graph().get_tensor_by_name(\"hidden4/kernel:0\")\n",
    "W_h5 = tf.get_default_graph().get_tensor_by_name(\"hidden5/kernel:0\")\n",
    "W_h6 = tf.get_default_graph().get_tensor_by_name(\"hidden6/kernel:0\")\n",
    "W_h7 = tf.get_default_graph().get_tensor_by_name(\"hidden7/kernel:0\")\n",
    "W_h8 = tf.get_default_graph().get_tensor_by_name(\"hidden8/kernel:0\")\n",
    "W_h9 = tf.get_default_graph().get_tensor_by_name(\"hidden9/kernel:0\")\n",
    "W_h10 = tf.get_default_graph().get_tensor_by_name(\"hidden10/kernel:0\")\n",
    "W_cat = tf.concat([W_h1, W_h2], 1)\n",
    "W_cat = tf.concat([W_cat, W_h3], 1)\n",
    "W_cat = tf.concat([W_cat, W_h4], 1)\n",
    "W_cat = tf.concat([W_cat, W_h5], 1)\n",
    "W_cat = tf.concat([W_cat, W_h6], 1)\n",
    "W_cat = tf.concat([W_cat, W_h7], 1)\n",
    "W_cat = tf.concat([W_cat, W_h8], 1)\n",
    "W_cat = tf.concat([W_cat, W_h9], 1)\n",
    "W_cat = tf.concat([W_cat, W_h10], 1)\n",
    "W_rcat = tf.transpose(W_cat)"
   ]
  },
  {
   "cell_type": "code",
   "execution_count": 19,
   "metadata": {},
   "outputs": [
    {
     "data": {
      "text/plain": [
       "<tf.Tensor 'transpose:0' shape=(41, 11) dtype=float32>"
      ]
     },
     "execution_count": 19,
     "metadata": {},
     "output_type": "execute_result"
    }
   ],
   "source": [
    "W_rcat"
   ]
  },
  {
   "cell_type": "code",
   "execution_count": 23,
   "metadata": {},
   "outputs": [
    {
     "name": "stdout",
     "output_type": "stream",
     "text": [
      "WARNING:tensorflow:From C:\\Users\\LG\\Anaconda3\\lib\\site-packages\\tensorflow\\python\\ops\\math_ops.py:3066: to_int32 (from tensorflow.python.ops.math_ops) is deprecated and will be removed in a future version.\n",
      "Instructions for updating:\n",
      "Use tf.cast instead.\n",
      "WARNING:tensorflow:From C:\\Users\\LG\\Anaconda3\\lib\\site-packages\\tensorflow\\python\\ops\\losses\\losses_impl.py:667: to_float (from tensorflow.python.ops.math_ops) is deprecated and will be removed in a future version.\n",
      "Instructions for updating:\n",
      "Use tf.cast instead.\n"
     ]
    }
   ],
   "source": [
    "with tf.name_scope('loss'):\n",
    "\tbase_loss = tf.reduce_mean(tf.squared_difference(y, tf.transpose(logits)))\n",
    "\treg_losses = custom_group_regularization_player(W_rcat, g_scalevec)\n",
    "\tloss = tf.add(base_loss, reg_losses, name=\"loss\")\n",
    "learning_rate = 0.01\n",
    "beta1 = 0.9\n",
    "beta2 = 0.999\n",
    "epsilon=1e-08\n",
    "n_epochs = 200\n",
    "train_samples_size = X_train.shape[0]\n",
    "test_samples_size = X_test.shape[0]\n",
    "batch_size = 100 \n",
    "batch = tf.Variable(0)\n",
    "decaying_learning_rate = tf.train.exponential_decay(learning_rate, batch*batch_size, train_samples_size, 0.95, staircase=True)\n",
    "with tf.name_scope('train'):\n",
    "\toptimizer = tf.train.AdamOptimizer(learning_rate = decaying_learning_rate, beta1 = beta1, beta2 = beta2, epsilon = epsilon)\n",
    "\ttraining_op = optimizer.minimize(loss)\n",
    "with tf.name_scope('eval'):\n",
    "\taccuracy = tf.losses.mean_squared_error(y, tf.transpose(logits))\n",
    "\n",
    "init = tf.global_variables_initializer()\n",
    "saver = tf.train.Saver()"
   ]
  },
  {
   "cell_type": "code",
   "execution_count": 41,
   "metadata": {},
   "outputs": [
    {
     "data": {
      "text/plain": [
       "TensorShape([])"
      ]
     },
     "execution_count": 41,
     "metadata": {},
     "output_type": "execute_result"
    }
   ],
   "source": [
    "loss.shape"
   ]
  },
  {
   "cell_type": "code",
   "execution_count": 24,
   "metadata": {},
   "outputs": [
    {
     "name": "stdout",
     "output_type": "stream",
     "text": [
      "0 train error: 2.2577083 test error: 2.372363\n",
      "50 train error: 0.7126813 test error: 0.65423626\n",
      "100 train error: 0.6036416 test error: 0.6709106\n",
      "150 train error: 0.69783366 test error: 0.6765407\n",
      "199 train error: 0.6424564 test error: 0.674472\n"
     ]
    },
    {
     "data": {
      "image/png": "[encoded data removed]",
      "text/plain": [
       "<Figure size 288x1073.45 with 2 Axes>"
      ]
     },
     "metadata": {},
     "output_type": "display_data"
    },
    {
     "name": "stdout",
     "output_type": "stream",
     "text": [
      "[[-1.21373276e-08 -2.57182728e-05  1.95010762e-05 -1.37291756e-03\n",
      "  -1.16667440e-11  4.56794851e-08 -1.46714074e-05  3.34408032e-05\n",
      "  -2.84447188e-11  1.12169073e-05  7.99408042e-08]\n",
      " [ 1.04878377e-03  1.10994384e-04  6.86036074e-04 -8.76592821e-04\n",
      "   1.42756384e-03 -9.13370633e-04 -1.52865890e-03  1.19873532e-03\n",
      "  -9.30454698e-04 -6.06777961e-04 -1.59843313e-03]\n",
      " [-1.36945979e-04  1.66848069e-04 -3.08139424e-04 -5.17458073e-04\n",
      "  -1.49748375e-04 -5.03017858e-04 -4.93727915e-04 -2.99516687e-04\n",
      "  -1.08219829e-04 -5.15881577e-04 -4.84300777e-04]\n",
      " [ 8.86759954e-04 -1.75352252e-04  9.30115813e-04 -9.00033396e-04\n",
      "   1.46992563e-03 -6.71603426e-04 -1.68273237e-03  8.90144729e-04\n",
      "  -7.70169776e-04 -3.53497569e-04 -1.52114010e-03]\n",
      " [ 1.16712134e-03 -3.94595845e-05  1.16510561e-03 -8.63563968e-04\n",
      "   2.02813651e-03 -1.13141816e-03 -1.36899226e-03  1.53559633e-03\n",
      "  -7.77133508e-04 -1.22498954e-04 -1.67914596e-03]\n",
      " [ 1.22164038e-03 -6.39617152e-04  1.17232930e-03 -2.01716670e-04\n",
      "   2.21333187e-03 -1.15184963e-03 -1.60169357e-03  1.39283412e-03\n",
      "  -7.62449810e-04 -2.32352759e-05 -1.38944620e-03]\n",
      " [-4.61394620e-08  2.36425956e-04 -8.95036436e-08 -5.29629141e-09\n",
      "  -1.36531253e-06  9.43175316e-09 -4.88223748e-07  4.63740246e-09\n",
      "   1.25418743e-03 -6.97283917e-15  7.51296858e-10]\n",
      " [-4.84997407e-04  1.29227317e-03 -2.34802160e-03 -1.28568849e-04\n",
      "  -2.64189951e-03 -2.62832385e-03 -1.41559029e-03  2.64321663e-03\n",
      "   3.91654298e-03  3.50684323e-03  1.26321614e-03]\n",
      " [-5.66421833e-04  1.42362388e-03 -2.80415203e-04 -1.52568705e-03\n",
      "  -3.67662782e-04 -4.83592157e-04 -9.31155286e-04  9.89048625e-04\n",
      "   2.20052432e-03  1.50944479e-03 -2.60646036e-03]\n",
      " [ 5.20141970e-04 -8.35998217e-05  5.95439516e-04 -5.92145952e-04\n",
      "   2.85202684e-03 -1.68468058e-03 -2.25750962e-03  1.77195948e-03\n",
      "  -6.83143851e-04 -3.62419320e-04 -1.61830080e-03]\n",
      " [-2.53793005e-05  5.71172677e-07  9.18123305e-07  1.52954948e-04\n",
      "   2.35620001e-03  1.03104325e-09  1.86102348e-04 -1.03348918e-06\n",
      "  -2.21935534e-06 -2.64010397e-10  2.25353288e-04]\n",
      " [ 5.25561745e-08 -2.96032522e-05  1.04555488e-03 -2.26073945e-03\n",
      "   4.62783792e-05 -8.30820500e-06 -1.42208899e-06  9.69350822e-08\n",
      "  -3.10076430e-04 -2.25285586e-08 -4.89695230e-05]\n",
      " [ 6.18859488e-08  2.03256034e-09  4.45947080e-07  1.15846797e-05\n",
      "   8.42592218e-10  2.81782889e-07  2.37059972e-09 -3.03764871e-08\n",
      "   2.09337799e-07 -1.85245194e-03  1.75659274e-08]\n",
      " [-1.06916297e-03  1.28257659e-03  6.48958725e-04  3.55993630e-04\n",
      "   1.97103550e-03 -1.31133012e-04 -8.37395550e-04  2.14132061e-03\n",
      "   2.48567760e-03  4.67156433e-03 -3.33138695e-03]\n",
      " [ 1.24341191e-03 -1.20716076e-03  8.95712525e-04 -1.77455589e-03\n",
      "   1.66416110e-03 -1.01257814e-03 -1.39154214e-03  6.99372264e-04\n",
      "  -1.60899281e-03 -4.58653172e-04 -8.19274748e-04]\n",
      " [ 4.02268284e-04 -2.91789242e-04  3.37059842e-04  2.52022466e-04\n",
      "   3.46379675e-04 -5.80896813e-05 -1.07673724e-04  1.82227304e-04\n",
      "   1.09125534e-03 -2.74704071e-05  1.16074865e-04]\n",
      " [ 8.19985056e-04 -4.24888916e-04  1.00374199e-03 -3.35820834e-04\n",
      "   1.72356644e-03 -1.44730043e-03 -1.08918210e-03  1.48144574e-03\n",
      "  -2.86475290e-04  1.44543708e-04 -1.58598216e-03]\n",
      " [ 1.75984832e-03  3.90306413e-05 -3.35908226e-08  6.05379000e-06\n",
      "   5.03978954e-05  5.96543250e-05 -1.87357247e-04  2.15851912e-07\n",
      "   4.51278174e-04 -2.39777262e-04 -9.32074101e-07]\n",
      " [ 1.31619605e-03  1.13912029e-06 -3.47491878e-05  1.06783064e-05\n",
      "  -6.78489778e-06 -2.28226618e-05  6.24156310e-05 -5.98941406e-05\n",
      "   4.98225127e-05  1.55185680e-05  2.39406800e-04]\n",
      " [ 5.28125611e-07 -1.15622697e-07 -7.04728791e-06 -1.76497793e-04\n",
      "   1.32315501e-04 -5.18898742e-06 -8.14144551e-06  3.26430418e-05\n",
      "   4.69363440e-04  1.61499495e-03 -2.12662357e-07]\n",
      " [-4.90253558e-04  8.37992877e-04 -1.82602589e-03 -1.14834867e-04\n",
      "  -1.98014127e-03 -1.85603066e-03 -1.07863138e-03  1.84819777e-03\n",
      "   3.12397815e-03  2.55219615e-03  1.10860821e-03]\n",
      " [ 5.67630923e-04 -4.59854840e-04  8.41569039e-04 -7.34790927e-04\n",
      "   1.86987326e-03 -1.55917648e-03 -2.12276890e-03  6.67640707e-04\n",
      "  -1.48092851e-03  6.49502152e-04 -1.32727367e-03]\n",
      " [-4.83727810e-04  2.24572708e-04  2.06329987e-05 -1.51265931e-06\n",
      "   7.04762002e-04  1.33399124e-04  2.57036416e-03 -5.49794024e-08\n",
      "  -1.76774152e-03  6.69609362e-05  1.69594859e-05]\n",
      " [ 1.45362504e-03 -1.36736792e-03  2.45648343e-03 -3.84378200e-03\n",
      "   9.59866506e-04  4.38830059e-04  8.29946948e-05  2.60769669e-03\n",
      "   1.12201634e-03  2.55288882e-03 -2.97088339e-03]\n",
      " [ 1.36098021e-03 -3.39403778e-05  1.40752585e-03 -6.03270833e-04\n",
      "   1.52835564e-03 -1.49606750e-03 -1.59135589e-03  1.31153350e-03\n",
      "  -4.27182997e-04 -6.78136712e-04 -1.39962672e-03]\n",
      " [ 1.16122276e-08 -6.20993887e-05 -2.28161321e-06 -1.82351074e-03\n",
      "   9.08274012e-10  4.98816483e-13  6.67313316e-07 -1.07791479e-04\n",
      "   1.41426332e-11 -6.33276938e-12  8.45378767e-10]\n",
      " [ 7.49305356e-04  3.46888765e-03 -2.76604347e-04 -1.61269761e-03\n",
      "  -1.42709946e-03 -3.63772386e-04 -5.35156811e-04  2.92846956e-03\n",
      "   1.03813899e-03  2.05822708e-03 -4.72198287e-03]\n",
      " [ 1.55118015e-03 -2.58668233e-03  1.41968206e-03 -5.50592784e-04\n",
      "  -2.91956181e-04 -1.13033224e-03 -1.20823481e-03  2.13213358e-03\n",
      "   2.30093487e-03  1.64276338e-03 -1.75481034e-03]\n",
      " [ 9.18727778e-08  1.20860622e-09 -8.39472047e-10  3.09602370e-07\n",
      "   1.27269968e-05 -7.33625029e-07  2.33777775e-03  3.76456999e-04\n",
      "   4.24249083e-05  2.33322080e-05  1.17218832e-03]\n",
      " [-3.37427045e-05 -7.51825848e-13  2.45440106e-06 -2.53168224e-08\n",
      "   2.00397636e-07  1.10879552e-03 -4.59392497e-04 -3.51605689e-11\n",
      "  -1.44915759e-07  2.60057391e-07  1.99528181e-08]\n",
      " [ 2.24606938e-05 -6.41230372e-07  2.21492327e-03  3.76654963e-04\n",
      "   1.75914793e-05 -1.58328447e-04  2.58138345e-04  1.79434559e-04\n",
      "   6.58068573e-04 -5.66014613e-04  9.52734336e-09]\n",
      " [ 2.03227508e-04  3.13544588e-05 -3.64755397e-05 -1.19526512e-05\n",
      "  -8.95317062e-05 -4.66403784e-03  1.05087398e-04  4.65479525e-06\n",
      "   2.52598529e-05  1.06165298e-05  2.66255011e-05]\n",
      " [ 3.50698715e-09  1.79735977e-08 -6.63900049e-04 -3.03857036e-07\n",
      "   4.28891783e-11 -1.49584329e-03 -1.40716293e-05 -1.75448513e-05\n",
      "  -5.16322383e-04 -1.65774594e-07 -1.91084690e-10]\n",
      " [-1.18697819e-03 -7.43804549e-07 -1.52058099e-09 -2.68600164e-09\n",
      "  -9.19771708e-07  6.28514710e-13 -4.24048485e-09  8.25388213e-07\n",
      "  -6.48999162e-07  6.55585609e-07 -8.00434918e-07]\n",
      " [-8.50977667e-04  2.10054964e-03  3.29654868e-04 -2.03807512e-03\n",
      "   9.57399752e-05 -5.99582447e-04 -9.93156573e-04  8.97109043e-04\n",
      "   2.30448646e-03  2.31057429e-03 -3.64076137e-03]\n",
      " [ 1.14609975e-08 -2.68131473e-08  8.34771345e-05  3.96725227e-06\n",
      "  -1.63660661e-05  2.11164243e-05  3.26595432e-03  1.73956867e-08\n",
      "   4.06213030e-06  6.46789601e-07 -2.98118323e-07]\n",
      " [-1.78886903e-03  7.20588432e-04 -7.21727731e-04 -8.30292702e-04\n",
      "   1.59912161e-05  2.61532026e-04  5.68589196e-04 -1.62278477e-04\n",
      "   8.41727247e-04 -4.34346002e-04 -1.00143789e-03]\n",
      " [ 2.15226319e-05 -4.12158406e-05 -2.46281706e-05 -4.15317190e-05\n",
      "   2.20097427e-05 -1.67370657e-04 -5.62014524e-04 -4.14355425e-04\n",
      "  -1.64093624e-04 -1.18984026e-05  7.98438487e-05]\n",
      " [ 1.91864688e-02 -6.68262243e-02 -2.94904634e-02  2.77694855e-02\n",
      "  -3.25089991e-02  1.69859324e-02 -2.34341323e-02 -2.35636272e-02\n",
      "  -2.54545398e-02  3.93974446e-02  1.08760700e-01]\n",
      " [ 9.69093890e-06 -9.98598125e-07 -1.31520804e-03 -8.00070120e-06\n",
      "  -6.30956902e-06 -3.64282641e-06  1.15561875e-06 -4.41672910e-06\n",
      "  -3.30601506e-06  6.41079760e-06  7.90050035e-06]\n",
      " [-2.57304844e-10  1.45056238e-03 -1.21608574e-11 -1.75032144e-09\n",
      "  -6.97864266e-11 -1.21315918e-03 -2.74052218e-05  4.89453034e-10\n",
      "  -8.10424439e-09 -7.09538597e-08 -2.21128849e-09]]\n"
     ]
    }
   ],
   "source": [
    "with tf.Session() as sess:\n",
    "\tinit.run()\n",
    "\tfor epoch in range(n_epochs):\n",
    "\t\tfor i in range(train_samples_size//batch_size):\n",
    "\t\t\tbatch_index = np.random.choice(train_samples_size, batch_size, replace=False)\n",
    "\t\t\tX_batch = X_train[batch_index, :]\n",
    "\t\t\ty_batch = y_train[batch_index]\n",
    "\t\t\tsess.run([training_op,decaying_learning_rate],feed_dict={X:X_batch, y:y_batch})\n",
    "\t\tif epoch % 50 == 0:\n",
    "\t\t\tacc_train = accuracy.eval(feed_dict={X:X_batch, y:y_batch})\n",
    "\t\t\tacc_test = accuracy.eval(feed_dict={X:X_test, y:y_test})\n",
    "\t\t\tprint (epoch, 'train error:', np.sqrt(acc_train), 'test error:', np.sqrt(acc_test))\n",
    "\t\n",
    "\t#save_path = saver.save(sess, './my_f7_model_final.ckpt')\n",
    "\tacc_train = accuracy.eval(feed_dict={X:X_batch, y:y_batch})\n",
    "\tacc_test = accuracy.eval(feed_dict={X:X_test, y:y_test})\n",
    "\tprint (epoch, 'train error:', np.sqrt(acc_train), 'test error:', np.sqrt(acc_test))\n",
    "\t\n",
    "\tW_mat = W_rcat.eval()\n",
    "\tplt.matshow(W_mat)\n",
    "\tplt.colorbar()\n",
    "\tplt.show()\n",
    "\tprint (W_mat)"
   ]
  }
 ],
 "metadata": {
  "kernelspec": {
   "display_name": "Python 3",
   "language": "python",
   "name": "python3"
  },
  "language_info": {
   "codemirror_mode": {
    "name": "ipython",
    "version": 3
   },
   "file_extension": ".py",
   "mimetype": "text/x-python",
   "name": "python",
   "nbconvert_exporter": "python",
   "pygments_lexer": "ipython3",
   "version": "3.6.2"
  }
 },
 "nbformat": 4,
 "nbformat_minor": 2
}
