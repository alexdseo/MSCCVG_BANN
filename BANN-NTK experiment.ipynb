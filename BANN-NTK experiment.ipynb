{
 "cells": [
  {
   "cell_type": "markdown",
   "metadata": {},
   "source": [
    "## BANN Experiment using NTK"
   ]
  },
  {
   "cell_type": "markdown",
   "metadata": {},
   "source": [
    "### Summary of suggested experiment\n",
    "\n"
   ]
  },
  {
   "cell_type": "markdown",
   "metadata": {},
   "source": [
    "### What we can acheive and new suggestions"
   ]
  },
  {
   "cell_type": "markdown",
   "metadata": {},
   "source": [
    "### Our Blocks"
   ]
  },
  {
   "cell_type": "code",
   "execution_count": null,
   "metadata": {
    "collapsed": true
   },
   "outputs": [],
   "source": [
    "with tf.name_scope('Block1'):\n",
    "\thidden1 = tf.layers.dense(X, n_hidden1, activation=tf.nn.relu, name='hidden1')\n",
    "\thidden2 = tf.layers.dense(X, n_hidden2, activation=tf.nn.relu, name='hidden2')\n",
    "\thidden3 = tf.layers.dense(X, n_hidden3, activation=tf.nn.relu, name='hidden3')\n",
    "\thidden4 = tf.layers.dense(X, n_hidden4, activation=tf.nn.relu, name='hidden4')\n",
    "\thidden5 = tf.layers.dense(X, n_hidden5, activation=tf.nn.relu, name='hidden5')\n",
    "\thidden6 = tf.layers.dense(X, n_hidden6, activation=tf.nn.relu, name='hidden6')\n",
    "\thidden7 = tf.layers.dense(X, n_hidden7, activation=tf.nn.relu, name='hidden7')\n",
    "\thidden8 = tf.layers.dense(X, n_hidden8, activation=tf.nn.relu, name='hidden8')\n",
    "\thidden9 = tf.layers.dense(X, n_hidden9, activation=tf.nn.relu, name='hidden9')\n",
    "\thidden10 = tf.layers.dense(X, n_hidden10, activation=tf.nn.relu, name='hidden10')"
   ]
  },
  {
   "cell_type": "code",
   "execution_count": null,
   "metadata": {
    "collapsed": true
   },
   "outputs": [],
   "source": [
    "with tf.name_scope('Block2'):\n",
    "\thidden1_1 = tf.layers.dense(hidden1, n_hidden11, activation=tf.nn.relu, name='hidden1_1')\n",
    "\thidden1_1drop = tf.layers.dropout(hidden1_1, dropout_rate, training=training)\n",
    "\thidden1_2 = tf.layers.dense(hidden2, n_hidden22, activation=tf.nn.relu, name='hidden1_2')\n",
    "\thidden1_2drop = tf.layers.dropout(hidden1_2, dropout_rate, training=training)\n",
    "\thidden1_3 = tf.layers.dense(hidden3, n_hidden33, activation=tf.nn.relu, name='hidden1_3')\n",
    "\thidden1_3drop = tf.layers.dropout(hidden1_3, dropout_rate, training=training)\n",
    "\thidden1_4 = tf.layers.dense(hidden4, n_hidden44, activation=tf.nn.relu, name='hidden1_4')\n",
    "\thidden1_4drop = tf.layers.dropout(hidden1_4, dropout_rate, training=training)\n",
    "\thidden1_5 = tf.layers.dense(hidden5, n_hidden55, activation=tf.nn.relu, name='hidden1_5')\n",
    "\thidden1_5drop = tf.layers.dropout(hidden1_5, dropout_rate, training=training)\n",
    "\thidden1_6 = tf.layers.dense(hidden6, n_hidden66, activation=tf.nn.relu, name='hidden1_6')\n",
    "\thidden1_6drop = tf.layers.dropout(hidden1_6, dropout_rate, training=training)\n",
    "\thidden1_7 = tf.layers.dense(hidden7, n_hidden77, activation=tf.nn.relu, name='hidden1_7')\n",
    "\thidden1_7drop = tf.layers.dropout(hidden1_7, dropout_rate, training=training)\n",
    "\thidden1_8 = tf.layers.dense(hidden8, n_hidden88, activation=tf.nn.relu, name='hidden1_8')\n",
    "\thidden1_8drop = tf.layers.dropout(hidden1_8, dropout_rate, training=training)\n",
    "\thidden1_9 = tf.layers.dense(hidden9, n_hidden99, activation=tf.nn.relu, name='hidden1_9')\n",
    "\thidden1_9drop = tf.layers.dropout(hidden1_9, dropout_rate, training=training)\n",
    "\thidden1_10 = tf.layers.dense(hidden10, n_hidden1010, activation=tf.nn.relu, name='hidden1_10')\n",
    "\thidden1_10drop = tf.layers.dropout(hidden1_10, dropout_rate, training=training)"
   ]
  },
  {
   "cell_type": "code",
   "execution_count": null,
   "metadata": {
    "collapsed": true
   },
   "outputs": [],
   "source": [
    "with tf.name_scope('Additive'):\n",
    "\thidden_cat = tf.concat([hidden1_1drop, hidden1_2drop], 1)\n",
    "\thidden_cat = tf.concat([hidden_cat, hidden1_3drop], 1)\n",
    "\thidden_cat = tf.concat([hidden_cat, hidden1_4drop], 1)\n",
    "\thidden_cat = tf.concat([hidden_cat, hidden1_5drop], 1)\n",
    "\thidden_cat = tf.concat([hidden_cat, hidden1_6drop], 1)\n",
    "\thidden_cat = tf.concat([hidden_cat, hidden1_7drop], 1)\n",
    "\thidden_cat = tf.concat([hidden_cat, hidden1_8drop], 1)\n",
    "\thidden_cat = tf.concat([hidden_cat, hidden1_9drop], 1)\n",
    "\thidden_cat = tf.concat([hidden_cat, hidden1_10drop], 1)\n",
    "\thidden_cat_drop = tf.layers.dropout(hidden_cat, dropout_rate, training=training)"
   ]
  },
  {
   "cell_type": "code",
   "execution_count": null,
   "metadata": {
    "collapsed": true
   },
   "outputs": [],
   "source": [
    "with tf.name_scope('Final'):\n",
    "\tlogits = tf.layers.dense(hidden_cat_drop, n_outputs, name='outputs')\n",
    "\tsimu = tf.reduce_mean(logits)"
   ]
  },
  {
   "cell_type": "markdown",
   "metadata": {},
   "source": [
    "### Reasons for our new experiements"
   ]
  },
  {
   "cell_type": "markdown",
   "metadata": {},
   "source": [
    "### What we can acheive"
   ]
  },
  {
   "cell_type": "markdown",
   "metadata": {},
   "source": [
    "### Neural Networks designed for NTK"
   ]
  },
  {
   "cell_type": "code",
   "execution_count": null,
   "metadata": {
    "collapsed": true
   },
   "outputs": [],
   "source": [
    "##Example\n",
    "init_fn, apply_fn, kernel_fn = stax.serial(\n",
    "    stax.Dense(n_hidden1), stax.Relu(),\n",
    "    stax.Dense(n_hidden2), stax.Relu(),\n",
    "    stax.Dense(n_hidden3), stax.Relu(),\n",
    "    stax.Dense(n_hidden4), stax.Relu(),\n",
    "    stax.Dense(n_hidden5), stax.Relu(),\n",
    "    stax.Dense(n_hidden6), stax.Relu(),\n",
    "    stax.Dense(n_hidden7), stax.Relu(),\n",
    "    stax.Dense(n_hidden8), stax.Relu(),\n",
    "    stax.Dense(n_hidden9), stax.Relu(),\n",
    "    stax.Dense(n_hidden10), stax.Relu()\n",
    "    stax.Desne(1)\n",
    ")\n",
    "\n",
    "#kernel = kernel_fn(X_train , None, 'ntk')\n",
    "#kernel_fn = nt.empirical_kernel_fn(apply_fn)"
   ]
  },
  {
   "cell_type": "markdown",
   "metadata": {},
   "source": [
    "### Results"
   ]
  },
  {
   "cell_type": "code",
   "execution_count": null,
   "metadata": {
    "collapsed": true
   },
   "outputs": [],
   "source": [
    "##Original results just using BANN"
   ]
  },
  {
   "cell_type": "code",
   "execution_count": null,
   "metadata": {
    "collapsed": true
   },
   "outputs": [],
   "source": [
    "### Results using ntk kernel function as kernel constraints"
   ]
  },
  {
   "cell_type": "code",
   "execution_count": null,
   "metadata": {
    "collapsed": true
   },
   "outputs": [],
   "source": [
    "### Results from training the final layer with NTK"
   ]
  },
  {
   "cell_type": "markdown",
   "metadata": {},
   "source": [
    "### Discussions"
   ]
  }
 ],
 "metadata": {
  "kernelspec": {
   "display_name": "Python 3",
   "language": "python",
   "name": "python3"
  },
  "language_info": {
   "codemirror_mode": {
    "name": "ipython",
    "version": 3
   },
   "file_extension": ".py",
   "mimetype": "text/x-python",
   "name": "python",
   "nbconvert_exporter": "python",
   "pygments_lexer": "ipython3",
   "version": "3.6.2"
  }
 },
 "nbformat": 4,
 "nbformat_minor": 2
}
