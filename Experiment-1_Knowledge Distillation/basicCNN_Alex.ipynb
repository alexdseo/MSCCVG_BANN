{
 "cells": [
  {
   "cell_type": "code",
   "execution_count": 1,
   "metadata": {},
   "outputs": [
    {
     "name": "stderr",
     "output_type": "stream",
     "text": [
      "C:\\Users\\LG\\Anaconda3\\lib\\site-packages\\h5py\\__init__.py:34: FutureWarning: Conversion of the second argument of issubdtype from `float` to `np.floating` is deprecated. In future, it will be treated as `np.float64 == np.dtype(float).type`.\n",
      "  from ._conv import register_converters as _register_converters\n"
     ]
    }
   ],
   "source": [
    "import os\n",
    "import numpy as np\n",
    "import tensorflow as tf\n",
    "from tensorflow.keras.layers import (Input, Reshape, Conv2D, MaxPooling2D,\n",
    "                                     Dropout, Flatten, Dense)\n",
    "from tensorflow.keras.models import Model, load_model\n",
    "from tensorflow.keras.optimizers import Adam"
   ]
  },
  {
   "cell_type": "code",
   "execution_count": 3,
   "metadata": {
    "collapsed": true
   },
   "outputs": [],
   "source": [
    "class ConvNet(object):\n",
    "    def __init__(self, img_rows, img_cols, img_chans, n_classes,\n",
    "                 optimizer=Adam, loss='categorical_crossentropy',\n",
    "                 metrics=['acc'], learning_rate=3e-04):\n",
    "        self.img_rows = img_rows\n",
    "        self.img_cols = img_cols\n",
    "        self.img_chans = img_chans\n",
    "        self.n_classes = n_classes\n",
    "\n",
    "        self.optimizer = Adam(lr=learning_rate)\n",
    "        self.loss = loss\n",
    "        self.metrics = metrics\n",
    "\n",
    "        self.model = None\n",
    "\n",
    "    def build_model(self):\n",
    "        input_layer = Input(shape=(self.img_rows, self.img_cols, self.img_chans))\n",
    "\n",
    "        # handle image dimensions ordering\n",
    "        if tf.keras.backend.image_data_format() == 'channels_first':\n",
    "            latent = Permute((3, 1, 2))(input_layer)\n",
    "        else:\n",
    "            latent = input_layer\n",
    "\n",
    "        # define the network architecture\n",
    "        latent = Conv2D(filters=32, kernel_size=(3, 3),\n",
    "                        activation='relu')(latent)\n",
    "        latent = Conv2D(filters=64, kernel_size=(3, 3),\n",
    "                        activation='relu')(latent)\n",
    "        latent = MaxPooling2D(pool_size=(2, 2))(latent)\n",
    "        latent = Dropout(rate=0.25)(latent)\n",
    "        latent = Flatten()(latent)\n",
    "        latent = Dense(units=128, activation='relu')(latent)\n",
    "        latent = Dropout(rate=0.5)(latent)\n",
    "        output_layer = Dense(units=self.n_classes, activation='softmax')(latent)\n",
    "\n",
    "        self.model = Model(inputs=input_layer, outputs=output_layer)\n",
    "\n",
    "        self.model.compile(optimizer=self.optimizer, loss=self.loss,\n",
    "                           metrics=self.metrics)\n",
    "\n",
    "    def maybe_train(self, data_train, data_valid, batch_size, epochs):\n",
    "\n",
    "        DIR_ASSETS = 'assets/'\n",
    "        PATH_MODEL = DIR_ASSETS + 'nn-model.hdf5'\n",
    "\n",
    "        if os.path.exists(PATH_MODEL):\n",
    "            print('Loading trained model from {}.'.format(PATH_MODEL))\n",
    "            self.model = load_model(PATH_MODEL)\n",
    "        else:\n",
    "            print('No checkpoint found on {}. Training from scratch.'.format(\n",
    "                PATH_MODEL))\n",
    "            self.build_model()\n",
    "            x_train, y_train = data_train\n",
    "            self.model.fit(x_train, y_train, validation_data=data_valid,\n",
    "                           batch_size=batch_size, epochs=epochs)\n",
    "            print('Saving trained model to {}.'.format(PATH_MODEL))\n",
    "            if not os.path.isdir(DIR_ASSETS):\n",
    "                os.mkdir(DIR_ASSETS)\n",
    "            self.model.save(PATH_MODEL)\n",
    "\n",
    "    def evaluate(self, x, y):\n",
    "        if self.model:\n",
    "            score = self.model.evaluate(x, y)\n",
    "            print('accuracy: {:.2f}% | loss: {}'.format(100*score[1], score[0]))\n",
    "        else:\n",
    "            print('Missing model instance.')\n",
    "\n",
    "    def predict(self, x):\n",
    "        if self.model:\n",
    "            return self.model.predict(x, verbose=1)\n",
    "        else:\n",
    "            print('Missing model instance.')"
   ]
  }
 ],
 "metadata": {
  "kernelspec": {
   "display_name": "Python 3",
   "language": "python",
   "name": "python3"
  },
  "language_info": {
   "codemirror_mode": {
    "name": "ipython",
    "version": 3
   },
   "file_extension": ".py",
   "mimetype": "text/x-python",
   "name": "python",
   "nbconvert_exporter": "python",
   "pygments_lexer": "ipython3",
   "version": "3.6.2"
  }
 },
 "nbformat": 4,
 "nbformat_minor": 2
}
